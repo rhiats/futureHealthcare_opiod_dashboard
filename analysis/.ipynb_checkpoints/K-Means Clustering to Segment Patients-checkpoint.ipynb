{
 "cells": [
  {
   "cell_type": "markdown",
   "metadata": {},
   "source": [
    "# Segment Patients to Identify High-Risk Patients using K-Means Clustering"
   ]
  },
  {
   "cell_type": "markdown",
   "metadata": {},
   "source": [
    "Data provided by Datavant. Analysis for Future of Healthcare Hackathon\n",
    "\n",
    "https://doi.org/10.1016/j.jbi.2021.103889"
   ]
  },
  {
   "cell_type": "markdown",
   "metadata": {},
   "source": [
    "# Pre-processing\n",
    "\n",
    "- Remove children: include patients b/w 12 to 90 years old\n",
    "- Exclude patients diagnosed with Cancer b/c opiod treatment plans vary\n",
    "- Identify patients using opiods for pain/abuse using ICD10 codes\n",
    "- Add binary variable labeling patients based on presence of an overdose\n",
    "- Length of time on opiods\n",
    "- Include patient demographic data: \n",
    "    - Race: White, Black, and Other\n",
    "    - Ethnicity: Hispanic/Other\n",
    "    - Insurance: Commercial, Medicare, Medicaid, No Insurance, and Other\n",
    "    - Prescence of an addictive behavior: other types of substance abuse and dependence, \n",
    "        opioid-related counseling, a histtory of urine drug screens, history of surgery, \n",
    "        chronic pain diagnoses, injury, mental illness, and typical comorbid conditions"
   ]
  },
  {
   "cell_type": "code",
   "execution_count": null,
   "metadata": {},
   "outputs": [],
   "source": []
  },
  {
   "cell_type": "markdown",
   "metadata": {},
   "source": [
    "# Distribution of Sample: \n",
    "Majority [female (64.3%)] and had a median age of [52]. The distribution of race was [58.9 % White, 40.1% Black, and 1% Other. There were 3.67% Hispanic or Latinos.]"
   ]
  },
  {
   "cell_type": "code",
   "execution_count": null,
   "metadata": {},
   "outputs": [],
   "source": []
  }
 ],
 "metadata": {
  "kernelspec": {
   "display_name": "Python 3",
   "language": "python",
   "name": "python3"
  },
  "language_info": {
   "codemirror_mode": {
    "name": "ipython",
    "version": 3
   },
   "file_extension": ".py",
   "mimetype": "text/x-python",
   "name": "python",
   "nbconvert_exporter": "python",
   "pygments_lexer": "ipython3",
   "version": "3.6.4"
  }
 },
 "nbformat": 4,
 "nbformat_minor": 4
}
