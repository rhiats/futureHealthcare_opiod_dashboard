{
 "cells": [
  {
   "cell_type": "markdown",
   "metadata": {},
   "source": [
    "# Segment Patients to Identify High-Risk Patients using K-Means Clustering"
   ]
  },
  {
   "cell_type": "markdown",
   "metadata": {},
   "source": [
    "Data provided by Datavant. Analysis for Future of Healthcare Hackathon\n",
    "\n",
    "https://doi.org/10.1016/j.jbi.2021.103889"
   ]
  },
  {
   "cell_type": "code",
   "execution_count": 1,
   "metadata": {},
   "outputs": [],
   "source": [
    "import pandas as pd\n",
    "import numpy as np"
   ]
  },
  {
   "cell_type": "markdown",
   "metadata": {},
   "source": [
    "# Pre-processing\n",
    "\n",
    "- Exclude patients diagnosed with Cancer b/c opiod treatment plans vary (should also remove if using cancer med, like chemo)\n",
    "- Remove children: include patients b/w 12 to 90 years old and deceased patients\n",
    "- Add binary variable labeling patients based on presence of an overdose\n",
    "- Length of time on opiods\n",
    "- Include patient demographic data: \n",
    "    - Race: White, Black, and Other\n",
    "    - Ethnicity: Hispanic/Other\n",
    "    - Insurance: Commercial, Medicare, Medicaid, No Insurance, and Other\n",
    "    - Prescence of an addictive behavior: other types of substance abuse and dependence, \n",
    "        opioid-related counseling, a histtory of urine drug screens, history of surgery, \n",
    "        chronic pain diagnoses, injury, mental illness, and typical comorbid conditions"
   ]
  },
  {
   "cell_type": "code",
   "execution_count": 18,
   "metadata": {},
   "outputs": [],
   "source": [
    "def rd_csv_file(filePath,col_lst):\n",
    "    \"\"\"\n",
    "        Read a csv file (filePath)\n",
    "        Return a dataframe with the selected rows (col_lst)\n",
    "    \"\"\"\n",
    "    df=pd.read_csv(filePath,dtype=str)\n",
    "    df=df[col_lst]\n",
    "    \n",
    "    return df\n",
    "\n",
    "def no_cancer_p(df):\n",
    "    \"\"\"\n",
    "        Return a list of patients lacking a cancer diag, using the column, 'code'\n",
    "    \"\"\"\n",
    "    cancer_idc_lst=[\"c44\", \"z51.5\", \"172\", \"174\", \"140\", \"141\", \"152\", \"147\", \"142\", \"153\", \"148\",\n",
    "                    \"143\", \"154\", \"149\", \"144\", \"155\", \"150\", \"145\", \"156\", \"151\", \"146\", \n",
    "                    \"157\", \"164\", \"171\", \"158\", \"165\", \"225\", \"159\",\"166\",\"209\", \"160\",\n",
    "                    \"167\", \"230\", \"161\", \"168\", \"231\", \"162\", \"169\", \"232\", \"163\",\n",
    "                    \"170\", \"233\", \"234\", \"247\", \"238\", \"v66\", \"209\", \"173\",\n",
    "                    \"227\",\"228\",\"237\", \"238\", \"239\"]\n",
    "    \n",
    "    df[\"code\"]=df.code.str.replace(' ', '')\n",
    "    df[\"code\"]=df.code.str.lower()\n",
    "    \n",
    "    for c in cancer_idc_lst:\n",
    "        p_ser=df[df.code.str.startswith(c)]['patient_id']\n",
    "        p_lst=p_ser.tolist()\n",
    "        df = df[~df['patient_id'].isin(p_lst)]\n",
    "    \n",
    "    p_id_lst=list(set(df['patient_id']))\n",
    "    \n",
    "    return p_id_lst\n",
    "\n",
    "def "
   ]
  },
  {
   "cell_type": "code",
   "execution_count": 19,
   "metadata": {},
   "outputs": [
    {
     "name": "stdout",
     "output_type": "stream",
     "text": [
      "927\n"
     ]
    }
   ],
   "source": [
    "df_cond1=rd_csv_file(\"input/condition.csv\",['encounter_id','patient_id','condition_date','code'])\n",
    "df_med1=rd_csv_file(\"input/medication.csv\",['encounter_id','patient_id','request_date','medication_name','ndc','dose','dose_unit','quantity','refills','duration','route'])\n",
    "df_pat1=rd_csv_file(\"input/patient.csv\",['patient_id','gender','race','birth_date','death_date','state'])\n",
    "df_proced1=rd_csv_file(\"input/procedure.csv\",['encounter_id','patient_id','procedure_date','code'])\n",
    "\n",
    "no_cnr_p_lst=no_cancer_p(df_cond1)\n",
    "print(len(no_cnr_p_lst))"
   ]
  },
  {
   "cell_type": "markdown",
   "metadata": {},
   "source": [
    "# Distribution of Sample: \n",
    "Majority [female (64.3%)] and had a median age of [52]. The distribution of race was [58.9 % White, 40.1% Black, and 1% Other. There were 3.67% Hispanic or Latinos.]"
   ]
  },
  {
   "cell_type": "code",
   "execution_count": null,
   "metadata": {},
   "outputs": [],
   "source": []
  }
 ],
 "metadata": {
  "kernelspec": {
   "display_name": "Python 3",
   "language": "python",
   "name": "python3"
  },
  "language_info": {
   "codemirror_mode": {
    "name": "ipython",
    "version": 3
   },
   "file_extension": ".py",
   "mimetype": "text/x-python",
   "name": "python",
   "nbconvert_exporter": "python",
   "pygments_lexer": "ipython3",
   "version": "3.6.4"
  }
 },
 "nbformat": 4,
 "nbformat_minor": 4
}
